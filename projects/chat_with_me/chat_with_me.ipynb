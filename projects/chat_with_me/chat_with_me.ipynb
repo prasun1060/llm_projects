{
 "cells": [
  {
   "cell_type": "code",
   "execution_count": null,
   "id": "b175b6ff",
   "metadata": {},
   "outputs": [],
   "source": [
    "from dotenv import load_dotenv\n",
    "from openai import OpenAI\n",
    "from pypdf import PdfReader\n",
    "import gradio as gr\n",
    "from IPython.display import Markdown, display\n",
    "from pydantic import BaseModel"
   ]
  },
  {
   "cell_type": "code",
   "execution_count": null,
   "id": "8ce4945d",
   "metadata": {},
   "outputs": [],
   "source": [
    "load_dotenv(override=True)\n",
    "# openai = OpenAI(base_url=\"http://127.0.0.1:11434/v1\", api_key=\"ollama\")\n",
    "openai = OpenAI()"
   ]
  },
  {
   "cell_type": "code",
   "execution_count": null,
   "id": "ed3fd4da",
   "metadata": {},
   "outputs": [],
   "source": [
    "reader = PdfReader(\"resources/linkedin.pdf\")\n",
    "LINKEDIN = \"\"\n",
    "for page in reader.pages:\n",
    "    text = page.extract_text()\n",
    "    if text:\n",
    "        LINKEDIN += text"
   ]
  },
  {
   "cell_type": "code",
   "execution_count": null,
   "id": "cad4978e",
   "metadata": {},
   "outputs": [],
   "source": [
    "with open(\"resources/summary.txt\", \"r\", encoding=\"utf-8\") as f:\n",
    "    SUMMARY = f.read()"
   ]
  },
  {
   "cell_type": "code",
   "execution_count": null,
   "id": "b7209b08",
   "metadata": {},
   "outputs": [],
   "source": [
    "NAME = \"Prasun Bhattacharyya\""
   ]
  },
  {
   "cell_type": "code",
   "execution_count": null,
   "id": "bbab824a",
   "metadata": {},
   "outputs": [],
   "source": [
    "SYSTEM_PROMPT = f\"You are acting as {NAME}. You are answering questions on {NAME}'s website, \\\n",
    "particularly questions related to {NAME}'s career, background, skills and experience. \\\n",
    "Your responsibility is to represent {NAME} for interactions on the website as faithfully as possible. \\\n",
    "You are given a summary of {NAME}'s background and LinkedIn profile which you can use to answer questions. \\\n",
    "Be professional and engaging, as if talking to a potential client or future employer who came across the website. \\\n",
    "If you don't know the answer, say so.\"\n",
    "\n",
    "SYSTEM_PROMPT += f\"\\n\\n## Summary:\\n{SUMMARY}\\n\\n## LinkedIn Profile:\\n{LINKEDIN}\\n\\n\"\n",
    "SYSTEM_PROMPT += f\"With this context, please chat with the user, always staying in character as {NAME}.\"\n"
   ]
  },
  {
   "cell_type": "code",
   "execution_count": null,
   "id": "4425d30e",
   "metadata": {},
   "outputs": [],
   "source": [
    "# Create a Pydantic model for the Evaluation\n",
    "class Evaluation(BaseModel):\n",
    "    \"\"\"\n",
    "    A Pydantic model for the evaluation of a response to a question.\n",
    "    Args:\n",
    "        is_acceptable (bool): Whether the response is acceptable.\n",
    "        feedback (str): The feedback on the response.\n",
    "    \"\"\"\n",
    "    is_acceptable: bool\n",
    "    feedback: str\n"
   ]
  },
  {
   "cell_type": "code",
   "execution_count": null,
   "id": "0a5bf7aa",
   "metadata": {},
   "outputs": [],
   "source": [
    "EVALUATOR_SYSTEM_PROMPT = f\"You are an evaluator that decides whether a response to a question is acceptable. \\\n",
    "You are provided with a conversation between a User and an Agent. Your task is to decide whether the Agent's latest response is acceptable quality. \\\n",
    "The Agent is playing the role of {NAME} and is representing {NAME} on their website. \\\n",
    "The Agent has been instructed to be professional and engaging, as if talking to a potential client or future employer who came across the website. \\\n",
    "The Agent has been provided with context on {NAME} in the form of their summary and LinkedIn details. Here's the information:\"\n",
    "\n",
    "EVALUATOR_SYSTEM_PROMPT += f\"\\n\\n## Summary:\\n{SUMMARY}\\n\\n## LinkedIn Profile:\\n{LINKEDIN}\\n\\n\"\n",
    "EVALUATOR_SYSTEM_PROMPT += f\"With this context, please evaluate the latest response, replying with whether the response is acceptable and your feedback.\""
   ]
  },
  {
   "cell_type": "code",
   "execution_count": null,
   "id": "709c14a3",
   "metadata": {},
   "outputs": [],
   "source": [
    "def evaluator_user_prompt(reply: str, message: str, history: list) -> str:\n",
    "    \"\"\"\n",
    "    A function to create a user prompt for the evaluator.\n",
    "    Args:\n",
    "        reply (str): The latest response from the Agent.\n",
    "        message (str): The latest message from the User.\n",
    "        history (list): The history of the conversation between the User and the Agent.\n",
    "    Returns:\n",
    "        str: The user prompt for the evaluator.\n",
    "    \"\"\"\n",
    "    user_prompt = f\"Here's the conversation between the User and the Agent: \\n\\n{history}\\n\\n\"\n",
    "    user_prompt += f\"Here's the latest message from the User: \\n\\n{message}\\n\\n\"\n",
    "    user_prompt += f\"Here's the latest response from the Agent: \\n\\n{reply}\\n\\n\"\n",
    "    user_prompt += \"Please evaluate the response, replying with whether it is acceptable and your feedback.\"\n",
    "    return user_prompt"
   ]
  },
  {
   "cell_type": "code",
   "execution_count": null,
   "id": "fa16fd71",
   "metadata": {},
   "outputs": [],
   "source": [
    "def evaluate(reply: str, message: str, history: list) -> Evaluation:\n",
    "    \"\"\"\n",
    "    Evaluate the response to a question.\n",
    "    Args:\n",
    "        reply (str): The latest response from the Agent.\n",
    "        message (str): The latest message from the User.\n",
    "        history (list): The history of the conversation between the User and the Agent.\n",
    "    Returns:\n",
    "        Evaluation: The evaluation of the response.\n",
    "    \"\"\"\n",
    "\n",
    "    messages = [{\"role\": \"system\", \"content\": EVALUATOR_SYSTEM_PROMPT}] + [{\"role\": \"user\", \"content\": evaluator_user_prompt(reply, message, history)}]\n",
    "    response = openai.beta.chat.completions.parse(model=\"gpt-4o-mini\", messages=messages, response_format=Evaluation)\n",
    "    return response.choices[0].message.parsed"
   ]
  },
  {
   "cell_type": "code",
   "execution_count": null,
   "id": "bd0011d4",
   "metadata": {},
   "outputs": [],
   "source": [
    "def rerun(reply: str, message: str, history: list, feedback: str) -> str:\n",
    "    \"\"\"\n",
    "    Rerun the conversation with the updated system prompt.\n",
    "    Args:\n",
    "        reply (str): The latest response from the Agent.\n",
    "        message (str): The latest message from the User.\n",
    "        history (list): The history of the conversation between the User and the Agent.\n",
    "        feedback (str): The feedback on the response.\n",
    "    Returns:\n",
    "        str: The response from the Agent.\n",
    "    \"\"\"\n",
    "\n",
    "    updated_system_prompt = SYSTEM_PROMPT + \"\\n\\n## Previous answer rejected\\nYou just tried to reply, but the quality control rejected your reply\\n\"\n",
    "    updated_system_prompt += f\"## Your attempted answer:\\n{reply}\\n\\n\"\n",
    "    updated_system_prompt += f\"## Reason for rejection:\\n{feedback}\\n\\n\"\n",
    "    messages = [{\"role\": \"system\", \"content\": updated_system_prompt}] + history + [{\"role\": \"user\", \"content\": message}]\n",
    "    response = openai.chat.completions.create(model=\"gpt-4o-mini\", messages=messages)\n",
    "    return response.choices[0].message.content"
   ]
  },
  {
   "cell_type": "code",
   "execution_count": null,
   "id": "364a4a48",
   "metadata": {},
   "outputs": [],
   "source": [
    "def chat(message: str, history: list) -> str:\n",
    "    \"\"\"\n",
    "    Chat with the agent.\n",
    "    Args:\n",
    "        message (str): The message to chat with the agent.\n",
    "        history (list): The history of the conversation.\n",
    "    Returns:\n",
    "        str: The response from the agent.\n",
    "    \"\"\"\n",
    "    messages = [{\"role\": \"system\", \"content\": SYSTEM_PROMPT}] + history + [{\"role\": \"user\", \"content\": message}]\n",
    "    response = openai.chat.completions.create(model=\"gpt-4o-mini\", messages=messages)\n",
    "    reply = response.choices[0].message.content\n",
    "\n",
    "    evaluation = evaluate(reply, message, history)\n",
    "    \n",
    "    while not evaluation.is_acceptable:\n",
    "        print(\"Failed evaluation - retrying\")\n",
    "        print(evaluation.feedback)\n",
    "        reply = rerun(reply, message, history, evaluation.feedback)       \n",
    "        evaluation = evaluate(reply, message, history)\n",
    "    return reply\n",
    "    "
   ]
  },
  {
   "cell_type": "code",
   "execution_count": null,
   "id": "42b4084c",
   "metadata": {},
   "outputs": [],
   "source": [
    "# Create a chat interface\n",
    "gr.ChatInterface(chat, type=\"messages\").launch()"
   ]
  }
 ],
 "metadata": {
  "kernelspec": {
   "display_name": ".venv",
   "language": "python",
   "name": "python3"
  },
  "language_info": {
   "codemirror_mode": {
    "name": "ipython",
    "version": 3
   },
   "file_extension": ".py",
   "mimetype": "text/x-python",
   "name": "python",
   "nbconvert_exporter": "python",
   "pygments_lexer": "ipython3",
   "version": "3.12.6"
  }
 },
 "nbformat": 4,
 "nbformat_minor": 5
}
